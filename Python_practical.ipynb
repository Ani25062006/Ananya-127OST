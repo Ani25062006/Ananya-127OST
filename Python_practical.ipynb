{
  "nbformat": 4,
  "nbformat_minor": 0,
  "metadata": {
    "colab": {
      "provenance": [],
      "authorship_tag": "ABX9TyPAq80Hd7xJS61+OdPeRUaK",
      "include_colab_link": true
    },
    "kernelspec": {
      "name": "python3",
      "display_name": "Python 3"
    },
    "language_info": {
      "name": "python"
    }
  },
  "cells": [
    {
      "cell_type": "markdown",
      "metadata": {
        "id": "view-in-github",
        "colab_type": "text"
      },
      "source": [
        "<a href=\"https://colab.research.google.com/github/Ani25062006/Ananya-127OST/blob/main/Python_practical.ipynb\" target=\"_parent\"><img src=\"https://colab.research.google.com/assets/colab-badge.svg\" alt=\"Open In Colab\"/></a>"
      ]
    },
    {
      "cell_type": "markdown",
      "source": [
        "1.Write a python program for factorial of a number."
      ],
      "metadata": {
        "id": "lSiV6JmYgl1c"
      }
    },
    {
      "cell_type": "code",
      "execution_count": null,
      "metadata": {
        "colab": {
          "base_uri": "https://localhost:8080/"
        },
        "id": "CxcVeYOrgMEh",
        "outputId": "2245c4ed-e8eb-4fa3-be66-d2e154f208e7"
      },
      "outputs": [
        {
          "output_type": "stream",
          "name": "stdout",
          "text": [
            "Enter a number: 2\n",
            "The factorial of 2 is 2\n"
          ]
        }
      ],
      "source": [
        "\n",
        "def factorial(n):\n",
        "    if n == 0 or n == 1:\n",
        "        return 1\n",
        "    else:\n",
        "        return n * factorial(n - 1)\n",
        "\n",
        "number = int(input(\"Enter a number: \"))\n",
        "result = factorial(number)\n",
        "print(f\"The factorial of {number} is {result}\")"
      ]
    },
    {
      "cell_type": "markdown",
      "source": [
        "Write a python code to create the following Ul using Tkinter."
      ],
      "metadata": {
        "id": "AhJwQI-ihHwf"
      }
    },
    {
      "cell_type": "code",
      "source": [
        "\n",
        "import tkinter as tk\n",
        "\n",
        "# Create the main window\n",
        "root = tk.Tk()\n",
        "root.title(\"Simple UI\")\n",
        "\n",
        "# Create labels\n",
        "label1 = tk.Label(root, text=\"Label 1\")\n",
        "label1.pack()\n",
        "\n",
        "label2 = tk.Label(root, text=\"Label 2\")\n",
        "label2.pack()\n",
        "\n",
        "# Create entry fields\n",
        "entry1 = tk.Entry(root)\n",
        "entry1.pack()\n",
        "\n",
        "entry2 = tk.Entry(root)\n",
        "entry2.pack()\n",
        "\n",
        "# Create a button\n",
        "button = tk.Button(root, text=\"Submit\")\n",
        "button.pack()\n",
        "\n",
        "# Run the main loop\n",
        "root.mainloop()"
      ],
      "metadata": {
        "colab": {
          "base_uri": "https://localhost:8080/",
          "height": 595
        },
        "id": "MmWKfJgKhS3U",
        "outputId": "e87f7c30-bb2f-4e9e-c7e8-cf68ac812fe4"
      },
      "execution_count": null,
      "outputs": [
        {
          "output_type": "error",
          "ename": "TclError",
          "evalue": "ignored",
          "traceback": [
            "\u001b[0;31m---------------------------------------------------------------------------\u001b[0m",
            "\u001b[0;31mTclError\u001b[0m                                  Traceback (most recent call last)",
            "\u001b[0;32m<ipython-input-3-ed6729c261f0>\u001b[0m in \u001b[0;36m<cell line: 4>\u001b[0;34m()\u001b[0m\n\u001b[1;32m      2\u001b[0m \u001b[0;34m\u001b[0m\u001b[0m\n\u001b[1;32m      3\u001b[0m \u001b[0;31m# Create the main window\u001b[0m\u001b[0;34m\u001b[0m\u001b[0;34m\u001b[0m\u001b[0m\n\u001b[0;32m----> 4\u001b[0;31m \u001b[0mroot\u001b[0m \u001b[0;34m=\u001b[0m \u001b[0mtk\u001b[0m\u001b[0;34m.\u001b[0m\u001b[0mTk\u001b[0m\u001b[0;34m(\u001b[0m\u001b[0;34m)\u001b[0m\u001b[0;34m\u001b[0m\u001b[0;34m\u001b[0m\u001b[0m\n\u001b[0m\u001b[1;32m      5\u001b[0m \u001b[0mroot\u001b[0m\u001b[0;34m.\u001b[0m\u001b[0mtitle\u001b[0m\u001b[0;34m(\u001b[0m\u001b[0;34m\"Simple UI\"\u001b[0m\u001b[0;34m)\u001b[0m\u001b[0;34m\u001b[0m\u001b[0;34m\u001b[0m\u001b[0m\n\u001b[1;32m      6\u001b[0m \u001b[0;34m\u001b[0m\u001b[0m\n",
            "\u001b[0;32m/usr/lib/python3.10/tkinter/__init__.py\u001b[0m in \u001b[0;36m__init__\u001b[0;34m(self, screenName, baseName, className, useTk, sync, use)\u001b[0m\n\u001b[1;32m   2297\u001b[0m                 \u001b[0mbaseName\u001b[0m \u001b[0;34m=\u001b[0m \u001b[0mbaseName\u001b[0m \u001b[0;34m+\u001b[0m \u001b[0mext\u001b[0m\u001b[0;34m\u001b[0m\u001b[0;34m\u001b[0m\u001b[0m\n\u001b[1;32m   2298\u001b[0m         \u001b[0minteractive\u001b[0m \u001b[0;34m=\u001b[0m \u001b[0;32mFalse\u001b[0m\u001b[0;34m\u001b[0m\u001b[0;34m\u001b[0m\u001b[0m\n\u001b[0;32m-> 2299\u001b[0;31m         \u001b[0mself\u001b[0m\u001b[0;34m.\u001b[0m\u001b[0mtk\u001b[0m \u001b[0;34m=\u001b[0m \u001b[0m_tkinter\u001b[0m\u001b[0;34m.\u001b[0m\u001b[0mcreate\u001b[0m\u001b[0;34m(\u001b[0m\u001b[0mscreenName\u001b[0m\u001b[0;34m,\u001b[0m \u001b[0mbaseName\u001b[0m\u001b[0;34m,\u001b[0m \u001b[0mclassName\u001b[0m\u001b[0;34m,\u001b[0m \u001b[0minteractive\u001b[0m\u001b[0;34m,\u001b[0m \u001b[0mwantobjects\u001b[0m\u001b[0;34m,\u001b[0m \u001b[0museTk\u001b[0m\u001b[0;34m,\u001b[0m \u001b[0msync\u001b[0m\u001b[0;34m,\u001b[0m \u001b[0muse\u001b[0m\u001b[0;34m)\u001b[0m\u001b[0;34m\u001b[0m\u001b[0;34m\u001b[0m\u001b[0m\n\u001b[0m\u001b[1;32m   2300\u001b[0m         \u001b[0;32mif\u001b[0m \u001b[0museTk\u001b[0m\u001b[0;34m:\u001b[0m\u001b[0;34m\u001b[0m\u001b[0;34m\u001b[0m\u001b[0m\n\u001b[1;32m   2301\u001b[0m             \u001b[0mself\u001b[0m\u001b[0;34m.\u001b[0m\u001b[0m_loadtk\u001b[0m\u001b[0;34m(\u001b[0m\u001b[0;34m)\u001b[0m\u001b[0;34m\u001b[0m\u001b[0;34m\u001b[0m\u001b[0m\n",
            "\u001b[0;31mTclError\u001b[0m: no display name and no $DISPLAY environment variable"
          ]
        }
      ]
    },
    {
      "cell_type": "markdown",
      "source": [
        "Write a python program to find maximum of two numbers"
      ],
      "metadata": {
        "id": "fbE4yRtOiSUD"
      }
    },
    {
      "cell_type": "code",
      "source": [
        "\n",
        "def find_maximum(a, b):\n",
        "    return max(a, b)\n",
        "\n",
        "# Input two numbers\n",
        "num1 = float(input(\"Enter the first number: \"))\n",
        "num2 = float(input(\"Enter the second number: \"))\n",
        "\n",
        "maximum = find_maximum(num1, num2)\n",
        "print(f\"The maximum number between {num1} and {num2} is {maximum}.\")"
      ],
      "metadata": {
        "colab": {
          "base_uri": "https://localhost:8080/"
        },
        "id": "3AH9cwK7lf5h",
        "outputId": "39f56809-9fc6-4cf8-d67e-19d78d9b8b69"
      },
      "execution_count": null,
      "outputs": [
        {
          "output_type": "stream",
          "name": "stdout",
          "text": [
            "Enter the first number: 45\n",
            "Enter the second number: 35\n",
            "The maximum number between 45.0 and 35.0 is 45.0.\n"
          ]
        }
      ]
    },
    {
      "cell_type": "markdown",
      "source": [
        "Write a python code to show the all inheritance types."
      ],
      "metadata": {
        "id": "ELsVUXnDmCEw"
      }
    },
    {
      "cell_type": "code",
      "source": [
        "\n",
        "# Single inheritance\n",
        "class Parent:\n",
        "    def show_parent(self):\n",
        "        print(\"This is the Parent class\")\n",
        "\n",
        "class Child(Parent):\n",
        "    def show_child(self):\n",
        "        print(\"This is the Child class\")\n",
        "\n",
        "# Multiple inheritance\n",
        "class AnotherParent:\n",
        "    def show_another_parent(self):\n",
        "        print(\"This is AnotherParent class\")\n",
        "\n",
        "class MultiChild(Parent, AnotherParent):\n",
        "    def show_multi_child(self):\n",
        "        print(\"This is the MultiChild class\")\n",
        "\n",
        "# Multilevel inheritance\n",
        "class Grandparent:\n",
        "    def show_grandparent(self):\n",
        "        print(\"This is the Grandparent class\")\n",
        "\n",
        "class ParentChild(Grandparent):\n",
        "    def show_parent_child(self):\n",
        "        print(\"This is the ParentChild class\")\n",
        "\n",
        "class GrandChild(ParentChild):\n",
        "    def show_grandchild(self):\n",
        "        print(\"This is the GrandChild class\")\n",
        "\n",
        "# Instantiating and using the classes\n",
        "print(\"Single Inheritance:\")\n",
        "child = Child()\n",
        "child.show_parent()\n",
        "child.show_child()\n",
        "\n",
        "print(\"\\nMultiple Inheritance:\")\n",
        "multi_child = MultiChild()\n",
        "multi_child.show_parent()\n",
        "multi_child.show_another_parent()\n",
        "multi_child.show_multi_child()\n",
        "\n",
        "print(\"\\nMultilevel Inheritance:\")\n",
        "grand_child = GrandChild()\n",
        "grand_child.show_grandparent()\n",
        "grand_child.show_parent_child()\n",
        "grand_child.show_grandchild()"
      ],
      "metadata": {
        "colab": {
          "base_uri": "https://localhost:8080/"
        },
        "id": "X8bU4htsmOSx",
        "outputId": "9c8ffd51-653c-40b9-cdd8-3c3e9d1ab8ab"
      },
      "execution_count": null,
      "outputs": [
        {
          "output_type": "stream",
          "name": "stdout",
          "text": [
            "Single Inheritance:\n",
            "This is the Parent class\n",
            "This is the Child class\n",
            "\n",
            "Multiple Inheritance:\n",
            "This is the Parent class\n",
            "This is AnotherParent class\n",
            "This is the MultiChild class\n",
            "\n",
            "Multilevel Inheritance:\n",
            "This is the Grandparent class\n",
            "This is the ParentChild class\n",
            "This is the GrandChild class\n"
          ]
        }
      ]
    }
  ]
}